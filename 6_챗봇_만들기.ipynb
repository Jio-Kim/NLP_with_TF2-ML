{
  "nbformat": 4,
  "nbformat_minor": 0,
  "metadata": {
    "colab": {
      "provenance": [],
      "collapsed_sections": [],
      "authorship_tag": "ABX9TyPVCQZm3CTv642X4ZMmBgca",
      "include_colab_link": true
    },
    "kernelspec": {
      "name": "python3",
      "display_name": "Python 3"
    },
    "language_info": {
      "name": "python"
    }
  },
  "cells": [
    {
      "cell_type": "markdown",
      "metadata": {
        "id": "view-in-github",
        "colab_type": "text"
      },
      "source": [
        "<a href=\"https://colab.research.google.com/github/Jio-Kim/NLP_with_TF2-ML/blob/main/6_%EC%B1%97%EB%B4%87_%EB%A7%8C%EB%93%A4%EA%B8%B0.ipynb\" target=\"_parent\"><img src=\"https://colab.research.google.com/assets/colab-badge.svg\" alt=\"Open In Colab\"/></a>"
      ]
    },
    {
      "cell_type": "code",
      "execution_count": 1,
      "metadata": {
        "id": "m04Nt_85Wr8f"
      },
      "outputs": [],
      "source": [
        "# 데이터 불러오기\n",
        "import pandas as pd\n",
        "\n",
        "DATA_IN_PATH = \"/content/\"\n",
        "data = pd.read_csv(DATA_IN_PATH+\"ChatBotData.csv\", encoding = 'utf-8')"
      ]
    },
    {
      "cell_type": "code",
      "source": [
        "# 문장 전체에 대한 분석\n",
        "sentences = list(data['Q']) + list(data['A'])\n",
        "# 문자 단위 길이 분석(음절), 단어 단위 길이 분석(어절), 형태소 단위 길이 분석"
      ],
      "metadata": {
        "id": "pzTmiAyEWsa6"
      },
      "execution_count": 2,
      "outputs": []
    },
    {
      "cell_type": "code",
      "source": [
        "!pip3 install konlpy"
      ],
      "metadata": {
        "colab": {
          "base_uri": "https://localhost:8080/"
        },
        "id": "8xKHB8bDOubg",
        "outputId": "e9167872-7ce2-4a6d-e3a6-3c73c16a34d1"
      },
      "execution_count": 3,
      "outputs": [
        {
          "output_type": "stream",
          "name": "stdout",
          "text": [
            "Looking in indexes: https://pypi.org/simple, https://us-python.pkg.dev/colab-wheels/public/simple/\n",
            "Collecting konlpy\n",
            "  Downloading konlpy-0.6.0-py2.py3-none-any.whl (19.4 MB)\n",
            "\u001b[K     |████████████████████████████████| 19.4 MB 637 kB/s \n",
            "\u001b[?25hRequirement already satisfied: lxml>=4.1.0 in /usr/local/lib/python3.7/dist-packages (from konlpy) (4.9.1)\n",
            "Collecting JPype1>=0.7.0\n",
            "  Downloading JPype1-1.4.1-cp37-cp37m-manylinux_2_12_x86_64.manylinux2010_x86_64.whl (465 kB)\n",
            "\u001b[K     |████████████████████████████████| 465 kB 57.7 MB/s \n",
            "\u001b[?25hRequirement already satisfied: numpy>=1.6 in /usr/local/lib/python3.7/dist-packages (from konlpy) (1.21.6)\n",
            "Requirement already satisfied: typing-extensions in /usr/local/lib/python3.7/dist-packages (from JPype1>=0.7.0->konlpy) (4.1.1)\n",
            "Requirement already satisfied: packaging in /usr/local/lib/python3.7/dist-packages (from JPype1>=0.7.0->konlpy) (21.3)\n",
            "Requirement already satisfied: pyparsing!=3.0.5,>=2.0.2 in /usr/local/lib/python3.7/dist-packages (from packaging->JPype1>=0.7.0->konlpy) (3.0.9)\n",
            "Installing collected packages: JPype1, konlpy\n",
            "Successfully installed JPype1-1.4.1 konlpy-0.6.0\n"
          ]
        }
      ]
    },
    {
      "cell_type": "code",
      "source": [
        "tokenized_sentences = [s.split() for s in sentences]\n",
        "sent_len_by_token = [len(t) for t in tokenized_sentences]    # 단어 단위 길이 분석\n",
        "sent_len_by_eumjeol = [len(s.replace(\" \", \"\")) for s in sentences] # 문자 단위 길이 분석\n",
        "\n",
        "import konlpy\n",
        "from konlpy.tag import Okt\n",
        "\n",
        "okt = Okt()\n",
        "\n",
        "morph_tokenized_sentences = [okt.morphs(s.replace(' ', '')) for s in sentences]\n",
        "sent_len_by_morph = [len(t) for t in morph_tokenized_sentences] # 형태소 단위 길이 분석"
      ],
      "metadata": {
        "id": "nFYTtwLPY4Fc"
      },
      "execution_count": 4,
      "outputs": []
    },
    {
      "cell_type": "code",
      "source": [
        "import matplotlib.pyplot as plt\n",
        "\n",
        "plt.figure(figsize = (12,5))\n",
        "plt.hist(sent_len_by_token, bins = 50, range = [0,50], alpha = 0.5, color = 'r', label = 'eojeol') # 단어 단위 길이 분석\n",
        "plt.hist(sent_len_by_morph, bins = 50, range = [0,50], alpha = 0.5, color = 'g', label = 'morph')  # 형태소 단위 길이 분석\n",
        "plt.hist(sent_len_by_eumjeol, bins = 50, range = [0,50], alpha = 0.5, color = 'b', label = 'eojeol') # 문자 단위 길이 분석\n",
        "plt.title(\"Sentence Length Histogram\")\n",
        "plt.xlabel(\"Sentence Length\")\n",
        "plt.ylabel(\"Number of Sentence\")"
      ],
      "metadata": {
        "colab": {
          "base_uri": "https://localhost:8080/",
          "height": 367
        },
        "id": "6IurSyMaY9GD",
        "outputId": "abc55ece-a6fa-4e3c-dbad-3e0529f34642"
      },
      "execution_count": 5,
      "outputs": [
        {
          "output_type": "execute_result",
          "data": {
            "text/plain": [
              "Text(0, 0.5, 'Number of Sentence')"
            ]
          },
          "metadata": {},
          "execution_count": 5
        },
        {
          "output_type": "display_data",
          "data": {
            "text/plain": [
              "<Figure size 864x360 with 1 Axes>"
            ],
            "image/png": "[encoded data removed]"
          },
          "metadata": {
            "needs_background": "light"
          }
        }
      ]
    },
    {
      "cell_type": "code",
      "source": [
        "# 위의 결과는 y값 분포가 달라 직관적으로 확인 힘듦 - y값 크기 조정함으로써 해결\n",
        "plt.figure(figsize = (12,5))\n",
        "plt.hist(sent_len_by_token, bins = 50, range = [0,50], alpha = 0.5, color = 'r', label = 'eojeol') # 단어 단위 길이 분석\n",
        "plt.hist(sent_len_by_morph, bins = 50, range = [0,50], alpha = 0.5, color = 'g', label = 'morph')  # 형태소 단위 길이 분석\n",
        "plt.hist(sent_len_by_eumjeol, bins = 50, range = [0,50], alpha = 0.5, color = 'b', label = 'eojeol') # 문자 단위 길이 분석\n",
        "plt.yscale(\"log\") # y 로그로 조절\n",
        "plt.title(\"Sentence Length Histogram\")\n",
        "plt.xlabel(\"Sentence Length\")\n",
        "plt.ylabel(\"Number of Sentence\")"
      ],
      "metadata": {
        "colab": {
          "base_uri": "https://localhost:8080/",
          "height": 367
        },
        "id": "s2ajQHxpZvZp",
        "outputId": "399ca08a-4419-4b39-8bb7-e0c7ff884e29"
      },
      "execution_count": 6,
      "outputs": [
        {
          "output_type": "execute_result",
          "data": {
            "text/plain": [
              "Text(0, 0.5, 'Number of Sentence')"
            ]
          },
          "metadata": {},
          "execution_count": 6
        },
        {
          "output_type": "display_data",
          "data": {
            "text/plain": [
              "<Figure size 864x360 with 1 Axes>"
            ],
            "image/png": "[encoded data removed]"
          },
          "metadata": {
            "needs_background": "light"
          }
        }
      ]
    },
    {
      "cell_type": "code",
      "source": [
        "import numpy as np\n",
        "# 어절(단어)\n",
        "lists = [sent_len_by_token,sent_len_by_morph, sent_len_by_eumjeol]\n",
        "for i in lists:\n",
        "  if i == sent_len_by_token:\n",
        "    print(\"단어\")\n",
        "    print(\"최대 길이 : {}\".format(np.max(i)))\n",
        "    print(\"최소 길이 : {}\".format(np.min(i)))\n",
        "    print(\"평균 길이 : {:.2f}\".format(np.mean(i)))\n",
        "    print(\"길이 표준편차 : {:.2f}\".format(np.std(i)))\n",
        "    print(\"중간 길이 : {}\".format(np.median(i)))\n",
        "    print(\"제1사분위 길이 : {}\".format(np.percentile(i,25)))\n",
        "    print(\"제3사분위 길이 : {}\".format(np.percentile(i,75)))\n",
        "    print(\"\\n\")\n",
        "  elif i == sent_len_by_morph:\n",
        "    print(\"형태소\")\n",
        "    print(\"최대 길이 : {}\".format(np.max(i)))\n",
        "    print(\"최소 길이 : {}\".format(np.min(i)))\n",
        "    print(\"평균 길이 : {:.2f}\".format(np.mean(i)))\n",
        "    print(\"길이 표준편차 : {:.2f}\".format(np.std(i)))\n",
        "    print(\"중간 길이 : {}\".format(np.median(i)))\n",
        "    print(\"제1사분위 길이 : {}\".format(np.percentile(i,25)))\n",
        "    print(\"제3사분위 길이 : {}\".format(np.percentile(i,75)))\n",
        "    print(\"\\n\")\n",
        "  else:\n",
        "    print(\"문자\")\n",
        "    print(\"최대 길이 : {}\".format(np.max(i)))\n",
        "    print(\"최소 길이 : {}\".format(np.min(i)))\n",
        "    print(\"평균 길이 : {:.2f}\".format(np.mean(i)))\n",
        "    print(\"길이 표준편차 : {:.2f}\".format(np.std(i)))\n",
        "    print(\"중간 길이 : {}\".format(np.median(i)))\n",
        "    print(\"제1사분위 길이 : {}\".format(np.percentile(i,25)))\n",
        "    print(\"제3사분위 길이 : {}\".format(np.percentile(i,75)))"
      ],
      "metadata": {
        "colab": {
          "base_uri": "https://localhost:8080/"
        },
        "id": "t0yE6lHAaU_K",
        "outputId": "8c1d85a2-40b9-4a8f-834a-6cd8e679067e"
      },
      "execution_count": 7,
      "outputs": [
        {
          "output_type": "stream",
          "name": "stdout",
          "text": [
            "단어\n",
            "최대 길이 : 21\n",
            "최소 길이 : 1\n",
            "평균 길이 : 3.64\n",
            "길이 표준편차 : 1.74\n",
            "중간 길이 : 3.0\n",
            "제1사분위 길이 : 2.0\n",
            "제3사분위 길이 : 5.0\n",
            "\n",
            "\n",
            "형태소\n",
            "최대 길이 : 31\n",
            "최소 길이 : 1\n",
            "평균 길이 : 5.41\n",
            "길이 표준편차 : 2.56\n",
            "중간 길이 : 5.0\n",
            "제1사분위 길이 : 4.0\n",
            "제3사분위 길이 : 7.0\n",
            "\n",
            "\n",
            "문자\n",
            "최대 길이 : 57\n",
            "최소 길이 : 1\n",
            "평균 길이 : 11.31\n",
            "길이 표준편차 : 4.98\n",
            "중간 길이 : 10.0\n",
            "제1사분위 길이 : 8.0\n",
            "제3사분위 길이 : 14.0\n"
          ]
        }
      ]
    },
    {
      "cell_type": "code",
      "source": [
        "plt.figure(figsize =(12,5))\n",
        "plt.boxplot([sent_len_by_token, sent_len_by_morph, sent_len_by_eumjeol],\n",
        "            labels = ['Eojeol', \"Morph\", \"Eumjeol\"], showmeans = True)"
      ],
      "metadata": {
        "colab": {
          "base_uri": "https://localhost:8080/",
          "height": 728
        },
        "id": "r-PDw_Qzb6qf",
        "outputId": "b08918c3-df7b-4010-9bad-0d613a88b23e"
      },
      "execution_count": 8,
      "outputs": [
        {
          "output_type": "execute_result",
          "data": {
            "text/plain": [
              "{'whiskers': [<matplotlib.lines.Line2D at 0x7fc59ce9b3d0>,\n",
              "  <matplotlib.lines.Line2D at 0x7fc59ce9b910>,\n",
              "  <matplotlib.lines.Line2D at 0x7fc59ce3ff10>,\n",
              "  <matplotlib.lines.Line2D at 0x7fc59ce46490>,\n",
              "  <matplotlib.lines.Line2D at 0x7fc59ce519d0>,\n",
              "  <matplotlib.lines.Line2D at 0x7fc59ce51f50>],\n",
              " 'caps': [<matplotlib.lines.Line2D at 0x7fc59ce9be50>,\n",
              "  <matplotlib.lines.Line2D at 0x7fc59ce9d3d0>,\n",
              "  <matplotlib.lines.Line2D at 0x7fc59ce469d0>,\n",
              "  <matplotlib.lines.Line2D at 0x7fc59ce46f10>,\n",
              "  <matplotlib.lines.Line2D at 0x7fc59ce574d0>,\n",
              "  <matplotlib.lines.Line2D at 0x7fc59ce57a50>],\n",
              " 'boxes': [<matplotlib.lines.Line2D at 0x7fc59ceb1e10>,\n",
              "  <matplotlib.lines.Line2D at 0x7fc59ce3fa10>,\n",
              "  <matplotlib.lines.Line2D at 0x7fc59ce51490>],\n",
              " 'medians': [<matplotlib.lines.Line2D at 0x7fc59ce9d950>,\n",
              "  <matplotlib.lines.Line2D at 0x7fc59ce4b490>,\n",
              "  <matplotlib.lines.Line2D at 0x7fc59ce57f90>],\n",
              " 'fliers': [<matplotlib.lines.Line2D at 0x7fc59ce3f410>,\n",
              "  <matplotlib.lines.Line2D at 0x7fc59ce4bf10>,\n",
              "  <matplotlib.lines.Line2D at 0x7fc59ce5da50>],\n",
              " 'means': [<matplotlib.lines.Line2D at 0x7fc59ce9de90>,\n",
              "  <matplotlib.lines.Line2D at 0x7fc59ce4b9d0>,\n",
              "  <matplotlib.lines.Line2D at 0x7fc59ce5d510>]}"
            ]
          },
          "metadata": {},
          "execution_count": 8
        },
        {
          "output_type": "display_data",
          "data": {
            "text/plain": [
              "<Figure size 864x360 with 1 Axes>"
            ],
            "image/png": "[encoded data removed]"
          },
          "metadata": {
            "needs_background": "light"
          }
        }
      ]
    },
    {
      "cell_type": "code",
      "source": [
        "# 질문, 답변 각각에 대한 문장 길이 분포 분석\n",
        "# 행태소 기준으로만 길이 분석\n",
        "query_sentences = list(data['Q'])\n",
        "answer_sentences = list(data['A'])\n",
        "\n",
        "query_morph_tokenized_sentences = [okt.morphs(s.replace(\" \",'')) for s in query_sentences]\n",
        "query_sent_len_by_morph = [len(t) for t in query_morph_tokenized_sentences]\n",
        "\n",
        "answer_morph_tokenized_sentences = [okt.morphs(s.replace(\" \",'')) for s in answer_sentences]\n",
        "answer_sent_len_by_morph = [len(t) for t in answer_morph_tokenized_sentences]"
      ],
      "metadata": {
        "id": "gxPXnj9pd2Df"
      },
      "execution_count": 9,
      "outputs": []
    },
    {
      "cell_type": "code",
      "source": [
        "plt.figure(figsize = (12,5))\n",
        "plt.hist(query_sent_len_by_morph, bins = 50, range = [0,50], alpha = 0.5, color = 'r', label = 'Query') # 질문 형태소 길이 분석\n",
        "plt.hist(answer_sent_len_by_morph, bins = 50, range = [0,50], alpha = 0.5, color = 'g', label = 'Answer')  # 대답 형태소 단위 길이 분석\n",
        "plt.legend()\n",
        "plt.title(\"Query Length Histogram by Morph Token\")\n",
        "plt.xlabel(\"Query Length\")\n",
        "plt.ylabel(\"Number of Queries\")"
      ],
      "metadata": {
        "colab": {
          "base_uri": "https://localhost:8080/",
          "height": 367
        },
        "id": "_kpkktVNe6mw",
        "outputId": "5a1bb3ca-91bb-4f87-f6ba-cbad5e382dc6"
      },
      "execution_count": 10,
      "outputs": [
        {
          "output_type": "execute_result",
          "data": {
            "text/plain": [
              "Text(0, 0.5, 'Number of Queries')"
            ]
          },
          "metadata": {},
          "execution_count": 10
        },
        {
          "output_type": "display_data",
          "data": {
            "text/plain": [
              "<Figure size 864x360 with 1 Axes>"
            ],
            "image/png": "[encoded data removed]"
          },
          "metadata": {
            "needs_background": "light"
          }
        }
      ]
    },
    {
      "cell_type": "code",
      "source": [
        "plt.figure(figsize = (12,5))\n",
        "plt.hist(query_sent_len_by_morph, bins = 50, range = [0,50], alpha = 0.5, color = 'r', label = 'Query') # 질문 형태소 길이 분석\n",
        "plt.hist(answer_sent_len_by_morph, bins = 50, range = [0,50], alpha = 0.5, color = 'g', label = 'Answer')  # 대답 형태소 단위 길이 분석\n",
        "plt.legend()\n",
        "plt.yscale(\"log\")\n",
        "plt.title(\"Query Length Histogram by Morph Token\")\n",
        "plt.xlabel(\"Query Length\")\n",
        "plt.ylabel(\"Number of Queries\")"
      ],
      "metadata": {
        "colab": {
          "base_uri": "https://localhost:8080/",
          "height": 367
        },
        "id": "RVy9FEcvgWJq",
        "outputId": "6b9f9c89-bf93-49ad-c421-f84d83d1557d"
      },
      "execution_count": 11,
      "outputs": [
        {
          "output_type": "execute_result",
          "data": {
            "text/plain": [
              "Text(0, 0.5, 'Number of Queries')"
            ]
          },
          "metadata": {},
          "execution_count": 11
        },
        {
          "output_type": "display_data",
          "data": {
            "text/plain": [
              "<Figure size 864x360 with 1 Axes>"
            ],
            "image/png": "[encoded data removed]"
          },
          "metadata": {
            "needs_background": "light"
          }
        }
      ]
    },
    {
      "cell_type": "code",
      "source": [
        "lists = [query_sent_len_by_morph,answer_sent_len_by_morph]\n",
        "for i in lists:\n",
        "  if i == query_sent_len_by_morph:\n",
        "    print(\"질문\")\n",
        "    print(\"최대 길이 : {}\".format(np.max(i)))\n",
        "    print(\"최소 길이 : {}\".format(np.min(i)))\n",
        "    print(\"평균 길이 : {:.2f}\".format(np.mean(i)))\n",
        "    print(\"길이 표준편차 : {:.2f}\".format(np.std(i)))\n",
        "    print(\"중간 길이 : {}\".format(np.median(i)))\n",
        "    print(\"제1사분위 길이 : {}\".format(np.percentile(i,25)))\n",
        "    print(\"제3사분위 길이 : {}\".format(np.percentile(i,75)))\n",
        "    print(\"\\n\")\n",
        "  elif i == answer_sent_len_by_morph:\n",
        "    print(\"대답\")\n",
        "    print(\"최대 길이 : {}\".format(np.max(i)))\n",
        "    print(\"최소 길이 : {}\".format(np.min(i)))\n",
        "    print(\"평균 길이 : {:.2f}\".format(np.mean(i)))\n",
        "    print(\"길이 표준편차 : {:.2f}\".format(np.std(i)))\n",
        "    print(\"중간 길이 : {}\".format(np.median(i)))\n",
        "    print(\"제1사분위 길이 : {}\".format(np.percentile(i,25)))\n",
        "    print(\"제3사분위 길이 : {}\".format(np.percentile(i,75)))\n",
        "    print(\"\\n\")"
      ],
      "metadata": {
        "colab": {
          "base_uri": "https://localhost:8080/"
        },
        "id": "S3HK0-ORgkvW",
        "outputId": "0c0d8c4d-3bcf-4cbf-edfc-073a6f051849"
      },
      "execution_count": 12,
      "outputs": [
        {
          "output_type": "stream",
          "name": "stdout",
          "text": [
            "질문\n",
            "최대 길이 : 20\n",
            "최소 길이 : 1\n",
            "평균 길이 : 4.95\n",
            "길이 표준편차 : 2.48\n",
            "중간 길이 : 4.0\n",
            "제1사분위 길이 : 3.0\n",
            "제3사분위 길이 : 6.0\n",
            "\n",
            "\n",
            "대답\n",
            "최대 길이 : 31\n",
            "최소 길이 : 1\n",
            "평균 길이 : 5.87\n",
            "길이 표준편차 : 2.55\n",
            "중간 길이 : 5.0\n",
            "제1사분위 길이 : 4.0\n",
            "제3사분위 길이 : 7.0\n",
            "\n",
            "\n"
          ]
        }
      ]
    },
    {
      "cell_type": "code",
      "source": [
        "plt.figure(figsize =(12,5))\n",
        "plt.boxplot([query_sent_len_by_morph, answer_sent_len_by_morph],\n",
        "            labels = [\"query\", 'answer'],\n",
        "            showmeans = True)"
      ],
      "metadata": {
        "colab": {
          "base_uri": "https://localhost:8080/",
          "height": 592
        },
        "id": "AWdt05eHhBqJ",
        "outputId": "7e440b2f-2d32-433b-d0c0-9919834e65b1"
      },
      "execution_count": 13,
      "outputs": [
        {
          "output_type": "execute_result",
          "data": {
            "text/plain": [
              "{'whiskers': [<matplotlib.lines.Line2D at 0x7fc59be20ad0>,\n",
              "  <matplotlib.lines.Line2D at 0x7fc59be24050>,\n",
              "  <matplotlib.lines.Line2D at 0x7fc59be30590>,\n",
              "  <matplotlib.lines.Line2D at 0x7fc59be30ad0>],\n",
              " 'caps': [<matplotlib.lines.Line2D at 0x7fc59be24590>,\n",
              "  <matplotlib.lines.Line2D at 0x7fc59be24ad0>,\n",
              "  <matplotlib.lines.Line2D at 0x7fc59be36050>,\n",
              "  <matplotlib.lines.Line2D at 0x7fc59be36590>],\n",
              " 'boxes': [<matplotlib.lines.Line2D at 0x7fc59be20590>,\n",
              "  <matplotlib.lines.Line2D at 0x7fc59be30090>],\n",
              " 'medians': [<matplotlib.lines.Line2D at 0x7fc59be29090>,\n",
              "  <matplotlib.lines.Line2D at 0x7fc59be36ad0>],\n",
              " 'fliers': [<matplotlib.lines.Line2D at 0x7fc59be29b10>,\n",
              "  <matplotlib.lines.Line2D at 0x7fc59bdbc590>],\n",
              " 'means': [<matplotlib.lines.Line2D at 0x7fc59be295d0>,\n",
              "  <matplotlib.lines.Line2D at 0x7fc59bdbc050>]}"
            ]
          },
          "metadata": {},
          "execution_count": 13
        },
        {
          "output_type": "display_data",
          "data": {
            "text/plain": [
              "<Figure size 864x360 with 1 Axes>"
            ],
            "image/png": "[encoded data removed]"
          },
          "metadata": {
            "needs_background": "light"
          }
        }
      ]
    },
    {
      "cell_type": "markdown",
      "source": [
        "통계값의 결과와 달리 평균 길이가 질문 데이터가 더 큼\n",
        "->답변 데이터 이상치가 많아 평균값 더욱 크게 측정됨\n"
      ],
      "metadata": {
        "id": "ogcYAU4ahhh8"
      }
    },
    {
      "cell_type": "code",
      "source": [
        "# 데이터 어휘 빈도 분석\n",
        "# 형태소 단위로 토크나이징한 데이터를 사용하여 자주 사용하는 단어 알아보기\n",
        "# 의미상 가장 중요한 명사, 형용사, 동사만 모아 모은 후 빈도수 분석 실시\n",
        "okt.pos(\"오늘밤은유난히덥구나\")"
      ],
      "metadata": {
        "id": "zqPTZj7MhVjn",
        "colab": {
          "base_uri": "https://localhost:8080/"
        },
        "outputId": "bd52ea31-9d87-476d-b8a9-5fed27dabd23"
      },
      "execution_count": 14,
      "outputs": [
        {
          "output_type": "execute_result",
          "data": {
            "text/plain": [
              "[('오늘밤', 'Noun'), ('은', 'Josa'), ('유난히', 'Adverb'), ('덥구나', 'Adjective')]"
            ]
          },
          "metadata": {},
          "execution_count": 14
        }
      ]
    },
    {
      "cell_type": "code",
      "source": [
        "# 질문, 대답 문장에서 명사, 동사, 형용사만 골라내기\n",
        "query_NVA_token_sentences = list()   # 질문에서 명사, 동사, 형용사 골라내기\n",
        "answer_NVA_token_sentences = list()  # 대답에서 명사, 동사, 형용사 골라내기\n",
        "\n",
        "for s in query_sentences:\n",
        "  for token, tag in okt.pos(s.replace(\" \",\"\")):\n",
        "    if tag == \"Noun\" or tag == \"Verb\" or tag == \"Adjective\":\n",
        "      query_NVA_token_sentences.append(token)\n",
        "\n",
        "for s in answer_sentences:\n",
        "  temp_token_bucket = list()\n",
        "  for token, tag in okt.pos(s.replace(\" \",\"\")):\n",
        "    if tag == \"Noun\" or tag == \"Verb\" or tag == \"Adjective\":\n",
        "      answer_NVA_token_sentences.append(token)"
      ],
      "metadata": {
        "id": "7jhr6wv-Q2Jt"
      },
      "execution_count": 15,
      "outputs": []
    },
    {
      "cell_type": "code",
      "source": [
        "query_NVA_token_sentences = ' '.join(query_NVA_token_sentences)\n",
        "answer_NVA_token_sentences = ' '.join(answer_NVA_token_sentences)"
      ],
      "metadata": {
        "id": "amUgyjw2TTCC"
      },
      "execution_count": 16,
      "outputs": []
    },
    {
      "cell_type": "code",
      "source": [
        "# 워드클라우드를 사용해 어휘 빈도 분석(질문)\n",
        "from wordcloud import WordCloud\n",
        "query_wordcloud = WordCloud(font_path = DATA_IN_PATH + \"NanumGothic-Regular.ttf\").generate(query_NVA_token_sentences)\n",
        "plt.imshow(query_wordcloud, interpolation = 'bilinear')\n",
        "plt.axis('off')\n",
        "plt.show()"
      ],
      "metadata": {
        "colab": {
          "base_uri": "https://localhost:8080/",
          "height": 198
        },
        "id": "H_Hj3aAdSVKJ",
        "outputId": "4a9335b1-510e-450b-e16c-7937170645f2"
      },
      "execution_count": 17,
      "outputs": [
        {
          "output_type": "display_data",
          "data": {
            "text/plain": [
              "<Figure size 432x288 with 1 Axes>"
            ],
            "image/png": "[encoded data removed]"
          },
          "metadata": {
            "needs_background": "light"
          }
        }
      ]
    },
    {
      "cell_type": "code",
      "source": [
        "# 워드클라우드를 사용해 어휘 빈도 분석(답변)\n",
        "from wordcloud import WordCloud\n",
        "answer_wordcloud = WordCloud(font_path = DATA_IN_PATH + \"NanumGothic-Regular.ttf\").generate(answer_NVA_token_sentences)\n",
        "plt.imshow(answer_wordcloud, interpolation = 'bilinear')\n",
        "plt.axis('off')\n",
        "plt.show()"
      ],
      "metadata": {
        "colab": {
          "base_uri": "https://localhost:8080/",
          "height": 198
        },
        "id": "lw4JPp80Sp-m",
        "outputId": "e066eb73-3c7e-4628-962d-4b53ae4b4dfb"
      },
      "execution_count": 18,
      "outputs": [
        {
          "output_type": "display_data",
          "data": {
            "text/plain": [
              "<Figure size 432x288 with 1 Axes>"
            ],
            "image/png": "[encoded data removed]"
          },
          "metadata": {
            "needs_background": "light"
          }
        }
      ]
    },
    {
      "cell_type": "code",
      "source": [],
      "metadata": {
        "id": "WdlvNXLODsxv"
      },
      "execution_count": 18,
      "outputs": []
    },
    {
      "cell_type": "markdown",
      "source": [
        "### 시퀀스 투 시퀀스 모델(seq2seq)\n",
        "- 하나의 텍스트 문장이 입력으로 들어오면 하나의 텍스트 문장을 출력하는 구조\n",
        "- 기계 번역(Machine translation), 텍스트 요약(Text summarizstion), 이미지 설명(Image captioning), 대화 모델(Conversation model) 등 다양한 분야에서 활용"
      ],
      "metadata": {
        "id": "TWFzTVo8WOrv"
      }
    },
    {
      "cell_type": "markdown",
      "source": [
        "#### preprocess.py"
      ],
      "metadata": {
        "id": "CyPFcIPAac_e"
      }
    },
    {
      "cell_type": "code",
      "source": [
        "import os\n",
        "import re\n",
        "import json\n",
        "\n",
        "import numpy as np\n",
        "import pandas as pd\n",
        "from tqdm import tqdm\n",
        "\n",
        "from konlpy.tag import Okt"
      ],
      "metadata": {
        "id": "DP1MS0mmV9Wq"
      },
      "execution_count": 19,
      "outputs": []
    },
    {
      "cell_type": "code",
      "source": [
        "# 데이터 처리 관련 설정값\n",
        "FILTERS = \"([~.,!?\\\"':;)(])\"\n",
        "PAD = \"<PAD>\" # 아무 의미 없는 패딩 토큰\n",
        "STD = \"<SOS>\" # 시작 토큰\n",
        "END = \"<END>\" # 종료 토큰\n",
        "UNK = \"<UNK>\" # 사전에 없는 토큰\n",
        "\n",
        "PAD_INDEX = 0\n",
        "STD_INDEX = 1\n",
        "END_INDEX = 2\n",
        "UNK_INDEX = 3\n",
        "\n",
        "MARKER = [PAD, STD, END, UNK]\n",
        "CHANGE_FILTER = re.compile(FILTERS) # 정규 표현식 모듈을 사용해 컴파일, 패턴 사용할 때 반복 컴파일 시간 줄여줌\n",
        "\n",
        "MAX_SEQUENCE = 25"
      ],
      "metadata": {
        "id": "sv-y016FaskF"
      },
      "execution_count": 50,
      "outputs": []
    },
    {
      "cell_type": "code",
      "source": [
        "# load_data - 데이터를 판다스를 통해 불러오는 함수\n",
        "def load_data(path):\n",
        "  data_df = pd.read_csv(path, header = 0)\n",
        "  question, answer = list(data_df['Q']), list(data_df['A'])\n",
        "\n",
        "  return question, answer"
      ],
      "metadata": {
        "id": "4hGFzQ24bV19"
      },
      "execution_count": 21,
      "outputs": []
    },
    {
      "cell_type": "code",
      "source": [
        "# data-tokenizser - 데이터 전처리 후 단어 리스트 만들기\n",
        "def data_tokenizer(data):\n",
        "  words = []\n",
        "  for sentence in data:\n",
        "    sentence = re.sub(CHANGE_FILTER,\"\", sentence) # 특수문자 제거\n",
        "    for word in sentence.split():\n",
        "      words.append(word)  # 공백 문자 기준 단어 나눠 리스트 만들기\n",
        "  return [word for word in words if word]"
      ],
      "metadata": {
        "id": "IW_g2Sd1dTOl"
      },
      "execution_count": 22,
      "outputs": []
    },
    {
      "cell_type": "code",
      "source": [
        "# prepo_like_morphilized - 한글 텍스트 토크나이징하기 위해 형태소로 분리하는 함수\n",
        "def prepro_like_morphlized(data):\n",
        "  morph_analyzer = Okt()\n",
        "  result_data = list()\n",
        "  for seq in tqdm(data):\n",
        "    morphlized_seq = \" \".join(morph_analyzer.morphs(seq.replace(\" \",'')))\n",
        "    result_data.append(morphlized_seq)\n",
        "  \n",
        "  return result_data"
      ],
      "metadata": {
        "id": "cOPomr5DdzTf"
      },
      "execution_count": 23,
      "outputs": []
    },
    {
      "cell_type": "code",
      "source": [
        "# load_vocabulary - 단어 사전 호출하기\n",
        "def load_vocabulary(path, vocab_path, tokenize_as_morph=False):\n",
        "  vocabulary_list = []\n",
        "  if not os.path.exists(vocab_path):   # 단어 사전 없는 경우\n",
        "    if (os.path.exists(path)):\n",
        "      data_df = pd.read_csv(path, encoding = \"UTF-8\")\n",
        "      question, answer = list(data_df['Q']), list(data_df['A'])\n",
        "\n",
        "    if tokenize_as_morph:  # 형태소에 따른 토크나이져 처리\n",
        "      question = prepro_like_morphlized(question)\n",
        "      answer = prepro_like_morphlized(answer)\n",
        "\n",
        "      data = []\n",
        "      data.extend(question)\n",
        "      data.extend(answer)\n",
        "\n",
        "      words = data_tokenizer(data)\n",
        "      words = list(set(words)) # set을 사용해 단어의 중복 제거\n",
        "      words[:0] = MARKER # 사전에 정의한 토큰들을 단어 리스트 앞에 추가\n",
        "    \n",
        "    with open(vocab_path, 'w', encoding = \"UTF-8\") as vocabulary_file:  # 새로 만들기\n",
        "      for word in words:\n",
        "        vocabulary_file.write(word + '\\n')\n",
        "\n",
        "      \n",
        "  with open(vocab_path, 'r', encoding = \"UTF-8\") as vocabulary_file: # 있는 경우 받아서 사용하기\n",
        "    for line in vocabulary_file:\n",
        "      vocabulary_list.append(line.strip())\n",
        "\n",
        "  char2idx, idx2char = make_vocabulary(vocabulary_list)\n",
        "\n",
        "  return char2idx, idx2char, len(char2idx)"
      ],
      "metadata": {
        "id": "marpQoBogKrR"
      },
      "execution_count": 24,
      "outputs": []
    },
    {
      "cell_type": "code",
      "source": [
        "def load_vocabulary(path, vocab_path, tokenize_as_morph=False):\n",
        "    # 사전을 담을 배열 준비한다.\n",
        "    vocabulary_list = []\n",
        "    # 사전을 구성한 후 파일로 저장 진행한다.\n",
        "    # 그 파일의 존재 유무를 확인한다.\n",
        "    if not os.path.exists(vocab_path):\n",
        "        # 이미 생성된 사전 파일이 존재하지 않으므로\n",
        "        # 데이터를 가지고 만들어야 한다.\n",
        "        # 그래서 데이터가 존재 하면 사전을 만들기 위해서\n",
        "        # 데이터 파일의 존재 유무를 확인한다.\n",
        "        if (os.path.exists(path)):\n",
        "            # 데이터가 존재하니 판단스를 통해서\n",
        "            # 데이터를 불러오자\n",
        "            data_df = pd.read_csv(path, encoding='utf-8')\n",
        "            # 판다스의 데이터 프레임을 통해서\n",
        "            # 질문과 답에 대한 열을 가져 온다.\n",
        "            question, answer = list(data_df['Q']), list(data_df['A'])\n",
        "            if tokenize_as_morph:  # 형태소에 따른 토크나이져 처리\n",
        "                question = prepro_like_morphlized(question)\n",
        "                answer = prepro_like_morphlized(answer)\n",
        "            data = []\n",
        "            # 질문과 답변을 extend을\n",
        "            # 통해서 구조가 없는 배열로 만든다.\n",
        "            data.extend(question)\n",
        "            data.extend(answer)\n",
        "            # 토큰나이져 처리 하는 부분이다.\n",
        "            words = data_tokenizer(data)\n",
        "            # 공통적인 단어에 대해서는 모두\n",
        "            # 필요 없으므로 한개로 만들어 주기 위해서\n",
        "            # set해주고 이것들을 리스트로 만들어 준다.\n",
        "            words = list(set(words))\n",
        "            # 데이터 없는 내용중에 MARKER를 사전에\n",
        "            # 추가 하기 위해서 아래와 같이 처리 한다.\n",
        "            # 아래는 MARKER 값이며 리스트의 첫번째 부터\n",
        "            # 순서대로 넣기 위해서 인덱스 0에 추가한다.\n",
        "            # PAD = \"<PADDING>\"\n",
        "            # STD = \"<START>\"\n",
        "            # END = \"<END>\"\n",
        "            # UNK = \"<UNKNWON>\"\n",
        "            words[:0] = MARKER\n",
        "        # 사전을 리스트로 만들었으니 이 내용을\n",
        "        # 사전 파일을 만들어 넣는다.\n",
        "        with open(vocab_path, 'w', encoding='utf-8') as vocabulary_file:\n",
        "            for word in words:\n",
        "                vocabulary_file.write(word + '\\n')\n",
        "\n",
        "    # 사전 파일이 존재하면 여기에서\n",
        "    # 그 파일을 불러서 배열에 넣어 준다.\n",
        "    with open(vocab_path, 'r', encoding='utf-8') as vocabulary_file:\n",
        "        for line in vocabulary_file:\n",
        "            vocabulary_list.append(line.strip())\n",
        "\n",
        "    # 배열에 내용을 키와 값이 있는\n",
        "    # 딕셔너리 구조로 만든다.\n",
        "    char2idx, idx2char = make_vocabulary(vocabulary_list)\n",
        "    # 두가지 형태의 키와 값이 있는 형태를 리턴한다.\n",
        "    # (예) 단어: 인덱스 , 인덱스: 단어)\n",
        "    return char2idx, idx2char, len(char2idx)\n"
      ],
      "metadata": {
        "id": "-h5dtsEWDcGJ"
      },
      "execution_count": 56,
      "outputs": []
    },
    {
      "cell_type": "code",
      "source": [
        "def make_vocabulary(vocabulary_list):\n",
        "    # 리스트를 키가 단어이고 값이 인덱스인\n",
        "    # 딕셔너리를 만든다.\n",
        "    char2idx = {char: idx for idx, char in enumerate(vocabulary_list)}\n",
        "    # 리스트를 키가 인덱스이고 값이 단어인\n",
        "    # 딕셔너리를 만든다.\n",
        "    idx2char = {idx: char for idx, char in enumerate(vocabulary_list)}\n",
        "    # 두개의 딕셔너리를 넘겨 준다.\n",
        "    return char2idx, idx2char"
      ],
      "metadata": {
        "id": "hzNn-mNqDvNR"
      },
      "execution_count": 57,
      "outputs": []
    },
    {
      "cell_type": "code",
      "source": [
        "# make_vocabulary - 단어 사전 만들기\n",
        "def make_vocabulary(vocabulary_list):\n",
        "  # 리스트를 키가 단어이고 값이 인덱스인 딕셔너리 만들기\n",
        "  char2idx = {char: idx for idx, char in enumerate(vocabulary_list)}\n",
        "  # 리스트를 키가 인덱스이고 값이 단어인 딕셔너리 만들기\n",
        "  idx2char = {idx: char for idx, char in enumerate(vocabulary_list)}\n",
        "\n",
        "  # 두개의 딕셔너리 넘겨주기\n",
        "  return char2idx, idx2char\n",
        "\n",
        "# word2idx, idx2word, vocab_size = load_vocabulary(PATH, VOCAB_PATH)"
      ],
      "metadata": {
        "id": "hrRmpIZ2lvq6"
      },
      "execution_count": 25,
      "outputs": []
    },
    {
      "cell_type": "code",
      "source": [
        "# 인코더에 적용될 입력값 만드는 전처리 함수 확인\n",
        "def enc_processing(value, dictionary, tokenize_as_morph=False):  # 전처리할 데이터, 단어사전\n",
        "  sequences_input_index = []\n",
        "  sequences_length = []\n",
        "\n",
        "  # 형태소 토크나이징 사용 유무\n",
        "  if tokenize_as_morph:\n",
        "      value = prepro_like_morphlized(value)\n",
        "\n",
        "\n",
        "  for sequence in value:\n",
        "    sequence = re.sub(CHANGE_FILTER,\"\",sequence) # 특수문자 제거\n",
        "    sequence_index = []\n",
        "    \n",
        "    for word in sequence.split():\n",
        "      if dictionary.get(word) is not None:\n",
        "        sequence_index.extend([dictionary[word]])\n",
        "      else:\n",
        "        sequence_index.extend([dictionary[UNK]]) # 단어가 단어사전에 없으면 UNK 토큰 넣음\n",
        "\n",
        "    if len(sequence_index) > MAX_SEQUENCE:  # 최대 길이보다 길면 자르기(패딩)\n",
        "      sequence_index = sequence_index[:MAX_SEQUENCE]\n",
        "\n",
        "    sequences_length.append(len(sequence_index))\n",
        "    sequence_index += (MAX_SEQUENCE - len(sequence_index)) * [dictionary[PAD]] # 최대 길이보다 짧으면 PAD토큰 넣기(패딩)\n",
        "\n",
        "    sequences_input_index.append(sequence_index)\n",
        "\n",
        "  return np.asarray(sequences_input_index), sequences_length"
      ],
      "metadata": {
        "id": "DqAqFF0FlH1K"
      },
      "execution_count": 41,
      "outputs": []
    },
    {
      "cell_type": "code",
      "source": [
        "def enc_processing(value, dictionary, tokenize_as_morph=False):\n",
        "    # 인덱스 값들을 가지고 있는\n",
        "    # 배열이다.(누적된다.)\n",
        "    sequences_input_index = []\n",
        "    # 하나의 인코딩 되는 문장의\n",
        "    # 길이를 가지고 있다.(누적된다.)\n",
        "    sequences_length = []\n",
        "    # 형태소 토크나이징 사용 유무\n",
        "    if tokenize_as_morph:\n",
        "        value = prepro_like_morphlized(value)\n",
        "\n",
        "    # 한줄씩 불어온다.\n",
        "    for sequence in value:\n",
        "        # FILTERS = \"([~.,!?\\\"':;)(])\"\n",
        "        # 정규화를 사용하여 필터에 들어 있는\n",
        "        # 값들을 \"\" 으로 치환 한다.\n",
        "        sequence = re.sub(CHANGE_FILTER, \"\", sequence)\n",
        "        # 하나의 문장을 인코딩 할때\n",
        "        # 가지고 있기 위한 배열이다.\n",
        "        sequence_index = []\n",
        "        # 문장을 스페이스 단위로\n",
        "        # 자르고 있다.\n",
        "        for word in sequence.split():\n",
        "            # 잘려진 단어들이 딕셔너리에 존재 하는지 보고\n",
        "            # 그 값을 가져와 sequence_index에 추가한다.\n",
        "            if dictionary.get(word) is not None:\n",
        "                sequence_index.extend([dictionary[word]])\n",
        "            # 잘려진 단어가 딕셔너리에 존재 하지 않는\n",
        "            # 경우 이므로 UNK(2)를 넣어 준다.\n",
        "            else:\n",
        "                sequence_index.extend([dictionary[UNK]])\n",
        "        # 문장 제한 길이보다 길어질 경우 뒤에 토큰을 자르고 있다.\n",
        "        if len(sequence_index) > MAX_SEQUENCE:\n",
        "            sequence_index = sequence_index[:MAX_SEQUENCE]\n",
        "        # 하나의 문장에 길이를 넣어주고 있다.\n",
        "        sequences_length.append(len(sequence_index))\n",
        "        # max_sequence_length보다 문장 길이가\n",
        "        # 작다면 빈 부분에 PAD(0)를 넣어준다.\n",
        "        sequence_index += (MAX_SEQUENCE - len(sequence_index)) * [dictionary[PAD]]\n",
        "        # 인덱스화 되어 있는 값을\n",
        "        # sequences_input_index에 넣어 준다.\n",
        "        sequences_input_index.append(sequence_index)\n",
        "    # 인덱스화된 일반 배열을 넘파이 배열로 변경한다.\n",
        "    # 이유는 텐서플로우 dataset에 넣어 주기 위한\n",
        "    # 사전 작업이다.\n",
        "    # 넘파이 배열에 인덱스화된 배열과\n",
        "    # 그 길이를 넘겨준다.\n",
        "    return np.asarray(sequences_input_index), sequences_length"
      ],
      "metadata": {
        "id": "jrvBXormYGNa"
      },
      "execution_count": 51,
      "outputs": []
    },
    {
      "cell_type": "code",
      "source": [
        "# 디코더의 입력값을 만드는 함수\n",
        "def dec_output_processing(value, dictionary, tokenize_as_morph=False):\n",
        "  sequences_output_index = []\n",
        "  sequences_length = []\n",
        "\n",
        "  # 형태소 토크나이징 사용 유무\n",
        "  if tokenize_as_morph:\n",
        "      value = prepro_like_morphlized(value)\n",
        "\n",
        "\n",
        "  for sequence in value:\n",
        "    sequence = re.sub(CHANGE_FILTER,\"\",sequence)\n",
        "    sequence_index = []\n",
        "    sequence_index = [dictionary[STD]] + [dictionary[word] if word in dictionary else dictionary[UNK] for word in sequence.split()]\n",
        "\n",
        "    if len(sequence_index) > MAX_SEQUENCE:\n",
        "      sequence_index = sequence_index[:MAX_SEQUENCE]\n",
        "    \n",
        "    sequences_length.append(len(sequence_index))\n",
        "    sequence_index += (MAX_SEQUENCE-len(sequence_index)) * [dictionary[PAD]]\n",
        "\n",
        "    sequences_output_index.append(sequence_index)\n",
        "\n",
        "  return np.asarray(sequences_output_index), sequences_length"
      ],
      "metadata": {
        "id": "GoA4qKC4YZmh"
      },
      "execution_count": 28,
      "outputs": []
    },
    {
      "cell_type": "code",
      "source": [
        "# 디코더의 타깃값 만드는 전처리 함수\n",
        "def dec_target_preprocessing(value, dictionary, tokenize_as_morph=False):\n",
        "  sequences_target_index = []\n",
        "\n",
        "  # 형태소 토크나이징 사용 유무\n",
        "  if tokenize_as_morph:\n",
        "      value = prepro_like_morphlized(value)\n",
        "\n",
        "  for sequence in value:\n",
        "    sequence = re.sub(CHANGE_FILTER,\"\",sequence)\n",
        "    sequence_index = [dictionary[word] if word in dictionary else dictionary[UNK] for word in sequence.split()]\n",
        "\n",
        "    if len(sequence_index) >= MAX_SEQUENCE:\n",
        "      sequence_index = sequence_index[:MAX_SEQUENCE - 1] + [dictionary[END]] # 마지막에 종료 토큰 넣기\n",
        "    else:\n",
        "      sequence_index += [dictionary[END]]\n",
        "    \n",
        "    sequence_index += (MAX_SEQUENCE-len(sequence_index)) * [dictionary[PAD]]\n",
        "    sequences_target_index.append(sequence_index)\n",
        "\n",
        "  return np.asarray(sequences_target_index) # 실제길이만 있는 리스트는 제외"
      ],
      "metadata": {
        "id": "Jqg78vhvr16N"
      },
      "execution_count": 29,
      "outputs": []
    },
    {
      "cell_type": "markdown",
      "source": [
        "#### prepreocess.jpynb"
      ],
      "metadata": {
        "id": "f-_cpbEELYkn"
      }
    },
    {
      "cell_type": "code",
      "source": [
        "!pip install preprocess"
      ],
      "metadata": {
        "colab": {
          "base_uri": "https://localhost:8080/"
        },
        "id": "eGlcMFix-HNZ",
        "outputId": "02c80137-94c8-4782-c1e0-2eac51022cbe"
      },
      "execution_count": 30,
      "outputs": [
        {
          "output_type": "stream",
          "name": "stdout",
          "text": [
            "Looking in indexes: https://pypi.org/simple, https://us-python.pkg.dev/colab-wheels/public/simple/\n",
            "Collecting preprocess\n",
            "  Downloading preprocess-2.0.0-py3-none-any.whl (12 kB)\n",
            "Requirement already satisfied: future in /usr/local/lib/python3.7/dist-packages (from preprocess) (0.16.0)\n",
            "Installing collected packages: preprocess\n",
            "Successfully installed preprocess-2.0.0\n"
          ]
        }
      ]
    },
    {
      "cell_type": "code",
      "source": [
        "from preprocess import *\n",
        "PATH = \"/content/ChatBotData.csv_short\"\n",
        "VOCAB_PATH = \"/content/vocabulary.txt\""
      ],
      "metadata": {
        "id": "oRLWisSvuzKD"
      },
      "execution_count": 69,
      "outputs": []
    },
    {
      "cell_type": "code",
      "source": [
        "inputs, outputs = load_data(PATH) # 학습할 데이터 불러오기\n",
        "char2idx, idx2char, vocab_size = load_vocabulary(PATH, VOCAB_PATH, tokenize_as_morph=False) # 단어 사전, 띄어쓰기 단위로 토큰화(tokenize_as_morph = False)"
      ],
      "metadata": {
        "id": "1VSwuTAjL_E3"
      },
      "execution_count": 70,
      "outputs": []
    },
    {
      "cell_type": "code",
      "source": [
        "# 모델에 학습할 인덱스 데이터 구성\n",
        "index_inputs, input_seq_len = enc_processing(inputs, char2idx, tokenize_as_morph = False) \n",
        "index_outputs, output_seq_len = dec_output_processing(outputs, char2idx, tokenize_as_morph = False)\n",
        "index_targets = dec_target_preprocessing(outputs, char2idx, tokenize_as_morph = False)"
      ],
      "metadata": {
        "id": "XL-CJfKuPY3e"
      },
      "execution_count": 72,
      "outputs": []
    },
    {
      "cell_type": "code",
      "source": [
        "data_configs = {} # 모델 학습할 때와 모델 추론에 활용하기 위해 단어 사전을 저장할 수 있도록 구성\n",
        "data_configs['char2idx'] = char2idx\n",
        "data_configs['idx2char'] = idx2char\n",
        "data_configs['vocab_size'] = vocab_size\n",
        "data_configs['pad_symbol'] = PAD\n",
        "data_configs['std_symbol'] = STD\n",
        "data_configs['end_symbol'] = END\n",
        "data_configs['unk_symbol'] = UNK"
      ],
      "metadata": {
        "id": "o_PjSRslMfQB"
      },
      "execution_count": 73,
      "outputs": []
    },
    {
      "cell_type": "code",
      "source": [
        "DATA_IN_PATH = '/content/'\n",
        "TRAIN_INPUTS = 'train_inputs.npy'\n",
        "TRAIN_OUTPUTS = 'train_outputs.npy'\n",
        "TRAIN_TARGETS = 'train_targets.npy'\n",
        "DATA_CONFIGS = 'data_configs.json'\n",
        "\n",
        "np.save(open(DATA_IN_PATH + TRAIN_INPUTS, 'wb'), index_inputs)\n",
        "np.save(open(DATA_IN_PATH + TRAIN_OUTPUTS, 'wb'), index_outputs)\n",
        "np.save(open(DATA_IN_PATH + TRAIN_TARGETS, 'wb'), index_targets)\n",
        "\n",
        "json.dump(data_configs, open(DATA_IN_PATH + DATA_CONFIGS, 'w'))"
      ],
      "metadata": {
        "id": "nmrCR5b1ON0W"
      },
      "execution_count": 74,
      "outputs": []
    },
    {
      "cell_type": "markdown",
      "source": [
        "#### seq2seq.jpynb"
      ],
      "metadata": {
        "id": "2-D2xA9zRglT"
      }
    },
    {
      "cell_type": "code",
      "source": [
        "# 모델 구현하기 위해 사용 - tenforflow, numpy\n",
        "import tensorflow as tf\n",
        "import numpy as np\n",
        "# 운영체제 기능 사용 - os\n",
        "import os\n",
        "\n",
        "# 빠른 학습 중지, 모델 체크포인트 위한 케라스 API 사용\n",
        "from tensorflow.keras.callbacks import EarlyStopping, ModelCheckpoint\n",
        "# 시각화 위한 시각화 함수\n",
        "import matplotlib.pyplot as plt\n",
        "# 전처리\n",
        "from preprocess import *"
      ],
      "metadata": {
        "id": "nKxKEI7DOTQu"
      },
      "execution_count": 75,
      "outputs": []
    },
    {
      "cell_type": "code",
      "source": [
        "# 시각화 함수 - epoch당 정확도와 손실 값 시각화하는 함수, 직관적으로 학습 상태 파악 가능\n",
        "def plot_graphs(history, string):\n",
        "  plt.plot(history.history[string])\n",
        "  plt.plot(history.history['val_' + string], '')\n",
        "  plt.xlabel(\"Epochs\")\n",
        "  plt.ylabel(string)\n",
        "  plt.legend([string, 'val_'+string])\n",
        "  plt.show()"
      ],
      "metadata": {
        "id": "qRID1BcxR5Zf"
      },
      "execution_count": 76,
      "outputs": []
    },
    {
      "cell_type": "code",
      "source": [
        "DATA_IN_PATH = '/content/'\n",
        "DATA_OUT_PATH = '/content/'\n",
        "TRAIN_INPUTS = 'train_inputs.npy'\n",
        "TRAIN_OUTPUTS = 'train_outputs.npy'\n",
        "TRAIN_TARGETS = 'train_targets.npy'\n",
        "DATA_CONFIGS = 'data_configs.json'"
      ],
      "metadata": {
        "id": "IgzEuQDySvCa"
      },
      "execution_count": 77,
      "outputs": []
    },
    {
      "cell_type": "code",
      "source": [
        "# 랜덤 시드값 선언\n",
        "SEED_NUM = 1234\n",
        "tf.random.set_seed(SEED_NUM)"
      ],
      "metadata": {
        "id": "AjxvqbkATBzg"
      },
      "execution_count": 78,
      "outputs": []
    },
    {
      "cell_type": "code",
      "source": [
        "# 전처리된 학습에 필요한 데이터와 설정값 불러오기\n",
        "index_inputs = np.load(open(DATA_IN_PATH + TRAIN_INPUTS, 'rb'))\n",
        "index_outputs = np.load(open(DATA_IN_PATH + TRAIN_OUTPUTS, 'rb'))\n",
        "index_targets = np.load(open(DATA_IN_PATH + TRAIN_TARGETS, 'rb'))\n",
        "prepro_configs = json.load(open(DATA_IN_PATH + DATA_CONFIGS, 'r'))"
      ],
      "metadata": {
        "id": "EjP1-esYTKRY"
      },
      "execution_count": 79,
      "outputs": []
    },
    {
      "cell_type": "markdown",
      "source": [
        "인코더의 입력, 디코더의 입력, 디코더의 타깃값을 가져왔으므로\n",
        "- 인코더는 최대 길이만큼 '<'PAD'>'가 붙음\n",
        "- 인코더 입력 앞에는 '<'SOS'>'가 붙음\n",
        "- 디코더 타깃값 뒤에는 '<'END'>'가 붙음"
      ],
      "metadata": {
        "id": "PQfRuDPJTweq"
      }
    },
    {
      "cell_type": "code",
      "source": [
        "# 배열의 크기 확인\n",
        "print(len(index_inputs), len(input_seq_len), len(index_outputs), len(output_seq_len), len(index_targets))"
      ],
      "metadata": {
        "colab": {
          "base_uri": "https://localhost:8080/"
        },
        "id": "9oBmQF2fTli0",
        "outputId": "9ca30086-3935-42ec-8beb-5a1e5d4bc4f1"
      },
      "execution_count": 80,
      "outputs": [
        {
          "output_type": "stream",
          "name": "stdout",
          "text": [
            "20 20 20 20 20\n"
          ]
        }
      ]
    },
    {
      "cell_type": "code",
      "source": [
        "# 모델 구성하는데 필요한 값 선언\n",
        "MODEL_NAME = \"seq2seq_kor\"\n",
        "BATCH_SIZE = 2      # 배치 크기\n",
        "MAX_SEQUENCE = 25   \n",
        "EPOCH = 30   # 전체 학습 데이터를 전체 순회하는 것이 1번\n",
        "UNITS = 1024 # 재귀 신경망의 결과 차원\n",
        "EMBEDDING_DIM = 256  # 임베딩 차원\n",
        "VALIDATION_SPLIT = 0.1   # 데이터의 전체 크기 대비 평가 셋의 크기 비율\n",
        "\n",
        "char2idx = prepro_configs['char2idx']\n",
        "idx2char = prepro_configs['idx2char']\n",
        "std_index = prepro_configs['std_symbol']\n",
        "end_index = prepro_configs['end_symbol']\n",
        "vocab_size = prepro_configs['vocab_size']"
      ],
      "metadata": {
        "id": "_yo23y6nUeeC"
      },
      "execution_count": 81,
      "outputs": []
    },
    {
      "cell_type": "markdown",
      "source": [
        "seq2seq 모델의 중간에 사용되는 신경망은 재귀 신경망으로,\n",
        "\n",
        "다양한 종류의 재현 신경망 중 GRU모델 사용할 예정"
      ],
      "metadata": {
        "id": "mtGRQMV5XOFt"
      }
    },
    {
      "cell_type": "code",
      "source": [
        "# seq2seq encoder\n",
        "class Encoder(tf.keras.layers.Layer):  # Encoder 클래스는 Layer를 상속받음\n",
        "  def __init__(self, vocab_size, embedding_dim, enc_units, batch_sz):  # 임베딩 룩업 테이블과 GRU구성 위한 인자 입력으로 받기\n",
        "    super(Encoder, self).__init__()\n",
        "    self.batch_sz = batch_sz\n",
        "    self.enc_units = enc_units\n",
        "    self.vocab_size = vocab_size\n",
        "    self.embedding_dim = embedding_dim\n",
        "\n",
        "    # 사전에 포함된 각 단어를 embedding_dim 차원의 임베딩 벡터로 만듦\n",
        "    self.embedding = tf.keras.layers.Embedding(self.vocab_size, self.embedding_dim) \n",
        "    # GRU 신경망을 만드는 부분\n",
        "    self.gru = tf.keras.layers.GRU(self.enc_units,           \n",
        "                                   return_sequences = True,   # 각 시퀀스마다 출력 반환할지의 여부\n",
        "                                   return_state = True,       # 마지막 상태 값의 반환 여부\n",
        "                                   recurrent_initializer = 'glorot_uniform')  # 초깃값 선정, glorot_uniform : 이전 노드와 다음 노드의 개수에 의존하는 방법        \n",
        "    \n",
        "  def call(self, x, hidden):\n",
        "    x = self.embedding(x)  # 위 함수에서 만든 embedding 함수를 통해 x값을 임베딩 벡터로 만듦\n",
        "    output, state = self.gru(x, initial_state = hidden) # 임베딩 벡터와 재귀 순환망의 초기화 상태로 인자로 받은 은닉 상태 전달\n",
        "    return output, state\n",
        "\n",
        "    # 배치 크기를 받아 재귀 순환망에 초기에 사용될 크기의 은닉 상태를 만드는 역할\n",
        "  def initial_hidden_state(self, inp):\n",
        "    return tf.zeros((tf.shape(inp)[0], self.enc_units))"
      ],
      "metadata": {
        "id": "hNxNwhvVUnfX"
      },
      "execution_count": null,
      "outputs": []
    },
    {
      "cell_type": "code",
      "source": [
        "class Encoder(tf.keras.layers.Layer):\n",
        "    def __init__(self, vocab_size, embedding_dim, enc_units, batch_sz):\n",
        "        super(Encoder, self).__init__()\n",
        "        self.batch_sz = batch_sz\n",
        "        self.enc_units = enc_units\n",
        "        self.vocab_size = vocab_size \n",
        "        self.embedding_dim = embedding_dim          \n",
        "        \n",
        "        self.embedding = tf.keras.layers.Embedding(self.vocab_size, self.embedding_dim)\n",
        "        self.gru = tf.keras.layers.GRU(self.enc_units,\n",
        "                                       return_sequences=True,\n",
        "                                       return_state=True,\n",
        "                                       recurrent_initializer='glorot_uniform')\n",
        "\n",
        "    def call(self, x, hidden):\n",
        "        x = self.embedding(x)\n",
        "        output, state = self.gru(x, initial_state = hidden)\n",
        "        return output, state\n",
        "\n",
        "    def initialize_hidden_state(self, inp):\n",
        "        return tf.zeros((tf.shape(inp)[0], self.enc_units))"
      ],
      "metadata": {
        "id": "rPQ9L6kzI7jB"
      },
      "execution_count": 82,
      "outputs": []
    },
    {
      "cell_type": "markdown",
      "source": [
        "seq2seq 모델링에서 설명한 인코더 디코더 구조는 seq2seq의 문제점을 보완하기 위해 나온 개념\n",
        "\n",
        "기존의 seq2seq는 문장이 길어질수록 더 많은 정보를 고정된 길이에 담아야 하므로 정보의 손실이 존재 + 재귀 순환망 특유의 문제인 장기 의존성 문제 발생 가능\n",
        "\n",
        "이러한 기존의 문제점을 어텐션을 통해 보완하였음.\n",
        "\n",
        "기존의 seq2seq는 인코더의 고정된 문맥 벡터가 디코더로 전달됨. \n",
        "\n",
        "어텐션이 추가된 방법은 은닉 상태의 값을 통해 어텐션을 계산하고 디코더의 각 시퀀스 스텝마다 계산된 어텐션을 입력으로 넣음.\n",
        "\n",
        "즉, 어텐션도 함께 학습을 진행하게 되며, 학습을 통해 디코더의 각 시퀀스 스텝마다 어텐션의 가중치 다르게 적용\n",
        "\n"
      ],
      "metadata": {
        "id": "xXuOT26l3Is4"
      }
    },
    {
      "cell_type": "code",
      "source": [
        "# 어텐션 소스코드\n",
        "class BahdanauAttention(tf.keras.layers.Layer):\n",
        "  def __init__(self, units):  # 출력 벡터의 크기를 인자로 받음\n",
        "    # 출력 크기가 units 크기인 W1, W2, 출력 크기가 1인 V의 완전 연결 계층을 만듦.\n",
        "    super(BahdanauAttention, self).__init__() \n",
        "    self.W1 = tf.keras.layers.Dense(units)\n",
        "    self.W2 = tf.keras.layers.Dense(units)\n",
        "    self.V = tf.keras.layers.Dense(1)\n",
        "\n",
        "  # query - 인코더 재귀 순환망의 은닉층의 상태 값\n",
        "  # values - 인코더 재귀 순환망의 결괏값\n",
        "  def call(self, query, values):\n",
        "    hidden_with_time_axis = tf.expand_dims(query,1)   # query를 W2에 행렬곱을 할 수 있는 형태(shape)를 만듦\n",
        "    # W1과 W2의 결괏값의 요소를 각각 더하고 하이퍼볼릭 탄젠트 활성함수를 통과한 값을 V에 행렬곱 - 1차원 벡터값 \n",
        "    score = self.V(tf.nn.tanh(self.W1(values) + self.W2(hidden_with_time_axis)))\n",
        "    \n",
        "    # softmax를 통과시켜 가중치 얻음, 영향도 높을수록 1에 가까워짐\n",
        "    attention_weights = tf.nn.softmax(score, axis = 1)\n",
        "\n",
        "    # 가중치*값 - 1에 가까운 값에 위치한 value 값은 커지고, 0에 가까우면 작아짐\n",
        "    context_vector = attention_weights * values\n",
        "    context_vector = tf.reduce_sum(context_vector, axis = 1)\n",
        "\n",
        "    return context_vector, attention_weights"
      ],
      "metadata": {
        "id": "h1ES99fa3qmT"
      },
      "execution_count": null,
      "outputs": []
    },
    {
      "cell_type": "code",
      "source": [
        "class BahdanauAttention(tf.keras.layers.Layer):\n",
        "    def __init__(self, units):\n",
        "        super(BahdanauAttention, self).__init__()\n",
        "        self.W1 = tf.keras.layers.Dense(units)\n",
        "        self.W2 = tf.keras.layers.Dense(units)\n",
        "        self.V = tf.keras.layers.Dense(1)\n",
        "\n",
        "    def call(self, query, values):\n",
        "        hidden_with_time_axis = tf.expand_dims(query, 1)\n",
        "\n",
        "        score = self.V(tf.nn.tanh(\n",
        "            self.W1(values) + self.W2(hidden_with_time_axis)))\n",
        "\n",
        "        attention_weights = tf.nn.softmax(score, axis=1)\n",
        "\n",
        "        context_vector = attention_weights * values\n",
        "        context_vector = tf.reduce_sum(context_vector, axis=1)\n",
        "\n",
        "        return context_vector, attention_weights"
      ],
      "metadata": {
        "id": "PynBy22LJA2l"
      },
      "execution_count": 83,
      "outputs": []
    },
    {
      "cell_type": "code",
      "source": [
        "# 디코더 소스코드\n",
        "class Decoder(tf.keras.layers.Layer):\n",
        "  def __init__(self, vocab_size, embedding_dim, dec_units, batch_sz):\n",
        "    super(Decoder, self).__init__()\n",
        "\n",
        "    self.batch_sz = batch_sz\n",
        "    self.dec_units = dec_units\n",
        "    self.vocab_size = vocab_size\n",
        "    self.embedding_dim = embedding_dim\n",
        "\n",
        "    self.embedding = tf.keras.layers.Embedding(self.vocab_size, self.embedding_dim) \n",
        "    self.gru = tf.keras.layers.GRU(self.dec_units,           \n",
        "                                   return_sequences = True,   \n",
        "                                   return_state = True,       \n",
        "                                   recurrent_initializer = 'glorot_uniform') \n",
        "    \n",
        "    # 출력 값이 사전 크기인 완전 연결 계층 fc를 만들기\n",
        "    self.fc = tf.keras.layers.Dense(self.vocab_size)\n",
        "    # BahdanauAttention 클래스 생성\n",
        "    self.attention = BahdanauAttention(self.dec_units)\n",
        "\n",
        "  def call(self, x, hidden, enc_output): # 디코더의 입력값(x), 인코더의 은닉 상태 값(hidden), 인코더의 결괏값(enc_output)\n",
        "    context_vector, attention_weights = self.attention(hidden, enc_output) # 어텐션 계산된 문맥 벡터(context_vector) 받음\n",
        "    x = self.embedding(x)  # 위 함수에서 만든 embedding 함수를 통해 x값을 임베딩 벡터로 만듦\n",
        "    # 문맥 벡터와 임베딩 벡터 결합(x)\n",
        "    x = tf.concat([tf.expand_dims(context_vector,1),x], axis = 1)\n",
        "\n",
        "    # 순환 신경망을 통과해 순환 신경망의 결괏값 얻음\n",
        "    output, state = self.gru(x)\n",
        "    output = tf.reshape(output, (-1, output.shape[2]))\n",
        "\n",
        "    # 완전 연결계층(fully-connected layer)을 통과해 사전 크기의 벡터 x만듦.\n",
        "    x = self.fc(output)\n",
        "    return x, state, attention_weights"
      ],
      "metadata": {
        "id": "LlFl3k22WAYM"
      },
      "execution_count": null,
      "outputs": []
    },
    {
      "cell_type": "code",
      "source": [
        "class Decoder(tf.keras.layers.Layer):\n",
        "    def __init__(self, vocab_size, embedding_dim, dec_units, batch_sz):\n",
        "        super(Decoder, self).__init__()\n",
        "        \n",
        "        self.batch_sz = batch_sz\n",
        "        self.dec_units = dec_units\n",
        "        self.vocab_size = vocab_size \n",
        "        self.embedding_dim = embedding_dim  \n",
        "        \n",
        "        self.embedding = tf.keras.layers.Embedding(self.vocab_size, self.embedding_dim)\n",
        "        self.gru = tf.keras.layers.GRU(self.dec_units,\n",
        "                                       return_sequences=True,\n",
        "                                       return_state=True,\n",
        "                                       recurrent_initializer='glorot_uniform')\n",
        "        self.fc = tf.keras.layers.Dense(self.vocab_size)\n",
        "\n",
        "        self.attention = BahdanauAttention(self.dec_units)\n",
        "        \n",
        "    def call(self, x, hidden, enc_output):\n",
        "        context_vector, attention_weights = self.attention(hidden, enc_output)\n",
        "\n",
        "        x = self.embedding(x)\n",
        "\n",
        "        x = tf.concat([tf.expand_dims(context_vector, 1), x], axis=-1)\n",
        "\n",
        "        output, state = self.gru(x)\n",
        "        output = tf.reshape(output, (-1, output.shape[2]))\n",
        "            \n",
        "        x = self.fc(output)\n",
        "        \n",
        "        return x, state, attention_weights"
      ],
      "metadata": {
        "id": "TVUre8-oJE6p"
      },
      "execution_count": 84,
      "outputs": []
    },
    {
      "cell_type": "code",
      "source": [
        "# 손실 함수와 정확도 측정 함수\n",
        "optimizer = tf.keras.optimizers.Adam() # 최적화로 아담을 사용하기 위한 객체\n",
        "\n",
        "loss_object = tf.keras.losses.SparseCategoricalCrossentropy(from_logits=True,\n",
        "                                                            reduction = 'none') # 크로스 엔트로피로 손실값 측정하기 위한 객체\n",
        "\n",
        "train_accuracy = tf.keras.metrics.SparseCategoricalCrossentropy(name = 'accuracy') # 정확도 측정을 위한 객체\n",
        "\n",
        "\n",
        "# 인자로 정답과 예측한 값을 받아서 두개의 값을 비교해서 손실 계산\n",
        "# real값 중 0인 값 <PAD>는 손실 계산에서 빼기 위한 함수\n",
        "def loss(real, pred):  \n",
        "  # tf.math.equal(real,0) - 정답 real에 포함되는 값 중 0인 것은 <PAD> 의미/True, 나머지 False\n",
        "  # math_logical_not - 각 요소들 0->1, 1->0 바뀜\n",
        "  mask = tf.math.logical_not(tf.math.equal(real,0)) \n",
        "  loss_ = loss_object(real, pred)\n",
        "  mask = tf.cast(mask, dtype = loss_.dtype)\n",
        "  loss_ *= mask # <PAD> 부분 제거\n",
        "  return tf.reduce_mean(loss_)\n",
        "\n",
        "# loss 함수와 비슷하며, 다른 점은 train_accuracy 함수를 통해 정확도 체크\n",
        "def accuracy(real, pred):  \n",
        "  mask = tf.math.logical_not(tf.math.equal(real,0))\n",
        "  mask - tf.expand_dims(tf.cast(mask, dtype = pred.dtype), axis = 1)\n",
        "  pred *= mask\n",
        "  acc = train_accuracy(real, pred)\n",
        "\n",
        "  return tf.reduce_mean(acc)"
      ],
      "metadata": {
        "id": "t65s0bMXQ4VS"
      },
      "execution_count": null,
      "outputs": []
    },
    {
      "cell_type": "code",
      "source": [
        "optimizer = tf.keras.optimizers.Adam()\n",
        "\n",
        "loss_object = tf.keras.losses.SparseCategoricalCrossentropy(from_logits=True, reduction='none')\n",
        "\n",
        "train_accuracy = tf.keras.metrics.SparseCategoricalAccuracy(name='accuracy')\n",
        "\n",
        "def loss(real, pred):\n",
        "    mask = tf.math.logical_not(tf.math.equal(real, 0))\n",
        "    loss_ = loss_object(real, pred)\n",
        "    mask = tf.cast(mask, dtype=loss_.dtype)\n",
        "    loss_ *= mask\n",
        "    return tf.reduce_mean(loss_)\n",
        "\n",
        "def accuracy(real, pred):\n",
        "    mask = tf.math.logical_not(tf.math.equal(real, 0))\n",
        "    mask = tf.expand_dims(tf.cast(mask, dtype=pred.dtype), axis=-1)\n",
        "    pred *= mask    \n",
        "    acc = train_accuracy(real, pred)\n",
        "\n",
        "    return tf.reduce_mean(acc)"
      ],
      "metadata": {
        "id": "29jPgmccJJxl"
      },
      "execution_count": 85,
      "outputs": []
    },
    {
      "cell_type": "code",
      "source": [
        "# seq2seq 클래스 - 각각 분리돼 있는 각 클래스를 이어주는 메인 클래스\n",
        "class seq2seq(tf.keras.Model):\n",
        "  # Encoder, Decoder 클래스 생성할 때 필요한 인자값\n",
        "  def __init__(self, vocab_size, embedding_dim, enc_units, dec_units, batch_sz, end_token_idx=2):\n",
        "    super(seq2seq, self).__init__()\n",
        "    self.end_token_idx = end_token_idx\n",
        "    self.encoder = Encoder(vocab_size, embedding_dim, enc_units, batch_sz)\n",
        "    self.decoder = Decoder(vocab_size, embedding_dim, dec_units, batch_sz)\n",
        "\n",
        "  # 인코더, 디코더의 입력값을 x를 통해 받음  \n",
        "  def call(self, x):\n",
        "    inp, tar = x\n",
        "\n",
        "    # self.encoder - 인코더 결괏값과 인코더 은닉 상태값을 만듦.\n",
        "    enc_hidden = self.encoder.initial_hidden_state(inp)\n",
        "    enc_output, enc_hidden = self.encoder(inp, enc_hidden)\n",
        "\n",
        "    # 디코더는 시퀀스 최대 길이만큼 반복하면서 디코더의 출력값 만들어냄\n",
        "    dec_hidden = enc_hidden\n",
        "\n",
        "    # 시퀀스마다 나온 결괏값을 리스트에(predict_tokens) 넣어 손실 계산 또는 정확도를 계산하는 용도로 사용\n",
        "    predict_tokens = list()\n",
        "    for t in range(0, tar.shape[1]):\n",
        "      dec_input = tf.dtypes.cast(tf.expand_dims(tar[:t],1), tf.float32)\n",
        "      predictions, dec_hidden, _ = self.decoder(dec_input, dec_hidden, enc_output)\n",
        "      predict_tokens.append(tf.dtypes.cast(predictions, tf.float32))\n",
        "    return tf.stack(predict_tokens, axis=1)\n",
        "\n",
        "# 사용자의 입력에 대한 모델의 결괏값을 확인하기 위해 테스트 목적으로 만들어진 함수.\n",
        "# 하나의 배치만 동작하도록 되어 있으며, <END>토큰을 만나면 반복문 멈춤.\n",
        "  def inference(self, x):\n",
        "    inp = x\n",
        "\n",
        "    enc_hidden = self.encoder.initialize_hidden_state(inp)\n",
        "    enc_output, enc_hidden = self.encoder(inp, enc_hidden)\n",
        "\n",
        "    dec_hidden = enc_hidden\n",
        "\n",
        "    dec_input = tf.expand_dims([char2idx[std_index]],1)\n",
        "\n",
        "    predict_tokens = list()\n",
        "    for t in range(0, MAX_SEQUENCE):\n",
        "      predictions, dec_hidden, _ = self.decoder(dec_input, dec_hidden, enc_output)\n",
        "      predict_token = tf.argmax(predictions[0])\n",
        "\n",
        "      if predict_token == self.end_token_idx:\n",
        "        break\n",
        "      \n",
        "      predict_tokens.append(predict_token)\n",
        "      dec_input = tf.dtypes.cast(tf.expand_dims([predict_token],0), tf.float32)\n",
        "    \n",
        "    return tf.stack(predict_tokens, axis=0).numpy()"
      ],
      "metadata": {
        "id": "7YOgsO-noyQT"
      },
      "execution_count": null,
      "outputs": []
    },
    {
      "cell_type": "code",
      "source": [
        "# seq2seq 만들기 - seq2seq객체 생성, 학습 방식 설정\n",
        "model = seq2seq(vocab_size, EMBEDDING_DIM, UNITS, BATCH_SIZE, char2idx[end_index])\n",
        "model.compile(loss = loss, optimizer = tf.keras.optimizers.Adam(1e-3), metrics = [accuracy])"
      ],
      "metadata": {
        "id": "xEa0BdM8y_m3"
      },
      "execution_count": null,
      "outputs": []
    },
    {
      "cell_type": "code",
      "source": [
        "class seq2seq(tf.keras.Model):\n",
        "    def __init__(self, vocab_size, embedding_dim, enc_units, dec_units, batch_sz, end_token_idx=2):    \n",
        "        super(seq2seq, self).__init__()\n",
        "        self.end_token_idx = end_token_idx\n",
        "        self.encoder = Encoder(vocab_size, embedding_dim, enc_units, batch_sz) \n",
        "        self.decoder = Decoder(vocab_size, embedding_dim, dec_units, batch_sz) \n",
        "\n",
        "    def call(self, x):\n",
        "        inp, tar = x\n",
        "        \n",
        "        enc_hidden = self.encoder.initialize_hidden_state(inp)\n",
        "        enc_output, enc_hidden = self.encoder(inp, enc_hidden)\n",
        "\n",
        "        dec_hidden = enc_hidden\n",
        "\n",
        "        predict_tokens = list()\n",
        "        for t in range(0, tar.shape[1]):\n",
        "            dec_input = tf.dtypes.cast(tf.expand_dims(tar[:, t], 1), tf.float32) \n",
        "            predictions, dec_hidden, _ = self.decoder(dec_input, dec_hidden, enc_output)\n",
        "            predict_tokens.append(tf.dtypes.cast(predictions, tf.float32))   \n",
        "        return tf.stack(predict_tokens, axis=1)\n",
        "    \n",
        "    def inference(self, x):\n",
        "        inp  = x\n",
        "\n",
        "        enc_hidden = self.encoder.initialize_hidden_state(inp)\n",
        "        enc_output, enc_hidden = self.encoder(inp, enc_hidden)\n",
        "\n",
        "        dec_hidden = enc_hidden\n",
        "        \n",
        "        dec_input = tf.expand_dims([char2idx[std_index]], 1)\n",
        "        \n",
        "        predict_tokens = list()\n",
        "        for t in range(0, MAX_SEQUENCE):\n",
        "            predictions, dec_hidden, _ = self.decoder(dec_input, dec_hidden, enc_output)\n",
        "            predict_token = tf.argmax(predictions[0])\n",
        "            \n",
        "            if predict_token == self.end_token_idx:\n",
        "                break\n",
        "            \n",
        "            predict_tokens.append(predict_token)\n",
        "            dec_input = tf.dtypes.cast(tf.expand_dims([predict_token], 0), tf.float32)   \n",
        "            \n",
        "        return tf.stack(predict_tokens, axis=0).numpy()"
      ],
      "metadata": {
        "id": "dfLy7JtoJPta"
      },
      "execution_count": 86,
      "outputs": []
    },
    {
      "cell_type": "code",
      "source": [
        "model = seq2seq(vocab_size, EMBEDDING_DIM, UNITS, UNITS, BATCH_SIZE, char2idx[end_index])\n",
        "model.compile(loss=loss, optimizer=tf.keras.optimizers.Adam(1e-3), metrics=[accuracy])\n",
        "#model.run_eagerly = True"
      ],
      "metadata": {
        "id": "mT143IQjYaI8"
      },
      "execution_count": 87,
      "outputs": []
    },
    {
      "cell_type": "code",
      "source": [
        "PATH = DATA_OUT_PATH + MODEL_NAME\n",
        "if not(os.path.isdir(PATH)):\n",
        "        os.makedirs(os.path.join(PATH))\n",
        "        \n",
        "checkpoint_path = DATA_OUT_PATH + MODEL_NAME + '/weights.h5'\n",
        "    \n",
        "cp_callback = ModelCheckpoint(\n",
        "    checkpoint_path, monitor='val_accuracy', verbose=1, save_best_only=True, save_weights_only=True)\n",
        "\n",
        "earlystop_callback = EarlyStopping(monitor='val_accuracy', min_delta=0.0001, patience=10)\n",
        "\n",
        "history = model.fit([index_inputs, index_outputs], index_targets,\n",
        "                    batch_size=BATCH_SIZE, epochs=30,\n",
        "                    validation_split=VALIDATION_SPLIT, callbacks=[earlystop_callback, cp_callback])\n"
      ],
      "metadata": {
        "colab": {
          "base_uri": "https://localhost:8080/"
        },
        "id": "NFnEmQCQJfJg",
        "outputId": "6368dfb8-f0bd-4a18-8b8b-98cd3932c0e9"
      },
      "execution_count": 88,
      "outputs": [
        {
          "output_type": "stream",
          "name": "stdout",
          "text": [
            "Epoch 1/30\n",
            "9/9 [==============================] - ETA: 0s - loss: 0.8155 - accuracy: 0.8360\n",
            "Epoch 1: val_accuracy improved from -inf to 0.85400, saving model to /content/seq2seq_kor/weights.h5\n",
            "9/9 [==============================] - 124s 5s/step - loss: 0.8155 - accuracy: 0.8360 - val_loss: 0.6231 - val_accuracy: 0.8540\n",
            "Epoch 2/30\n",
            "9/9 [==============================] - ETA: 0s - loss: 0.7361 - accuracy: 0.8527\n",
            "Epoch 2: val_accuracy improved from 0.85400 to 0.85600, saving model to /content/seq2seq_kor/weights.h5\n",
            "9/9 [==============================] - 25s 3s/step - loss: 0.7361 - accuracy: 0.8527 - val_loss: 0.6193 - val_accuracy: 0.8560\n",
            "Epoch 3/30\n",
            "9/9 [==============================] - ETA: 0s - loss: 0.6746 - accuracy: 0.8572\n",
            "Epoch 3: val_accuracy improved from 0.85600 to 0.85667, saving model to /content/seq2seq_kor/weights.h5\n",
            "9/9 [==============================] - 27s 3s/step - loss: 0.6746 - accuracy: 0.8572 - val_loss: 0.5709 - val_accuracy: 0.8567\n",
            "Epoch 4/30\n",
            "9/9 [==============================] - ETA: 0s - loss: 0.6202 - accuracy: 0.8572\n",
            "Epoch 4: val_accuracy improved from 0.85667 to 0.85700, saving model to /content/seq2seq_kor/weights.h5\n",
            "9/9 [==============================] - 26s 3s/step - loss: 0.6202 - accuracy: 0.8572 - val_loss: 0.5561 - val_accuracy: 0.8570\n",
            "Epoch 5/30\n",
            "9/9 [==============================] - ETA: 0s - loss: 0.5758 - accuracy: 0.8573\n",
            "Epoch 5: val_accuracy improved from 0.85700 to 0.85720, saving model to /content/seq2seq_kor/weights.h5\n",
            "9/9 [==============================] - 25s 3s/step - loss: 0.5758 - accuracy: 0.8573 - val_loss: 0.5029 - val_accuracy: 0.8572\n",
            "Epoch 6/30\n",
            "9/9 [==============================] - ETA: 0s - loss: 0.5242 - accuracy: 0.8566\n",
            "Epoch 6: val_accuracy improved from 0.85720 to 0.85767, saving model to /content/seq2seq_kor/weights.h5\n",
            "9/9 [==============================] - 27s 3s/step - loss: 0.5242 - accuracy: 0.8566 - val_loss: 0.4465 - val_accuracy: 0.8577\n",
            "Epoch 7/30\n",
            "9/9 [==============================] - ETA: 0s - loss: 0.4692 - accuracy: 0.8588\n",
            "Epoch 7: val_accuracy improved from 0.85767 to 0.86086, saving model to /content/seq2seq_kor/weights.h5\n",
            "9/9 [==============================] - 25s 3s/step - loss: 0.4692 - accuracy: 0.8588 - val_loss: 0.4096 - val_accuracy: 0.8609\n",
            "Epoch 8/30\n",
            "9/9 [==============================] - ETA: 0s - loss: 0.4246 - accuracy: 0.8641\n",
            "Epoch 8: val_accuracy improved from 0.86086 to 0.86575, saving model to /content/seq2seq_kor/weights.h5\n",
            "9/9 [==============================] - 25s 3s/step - loss: 0.4246 - accuracy: 0.8641 - val_loss: 0.3684 - val_accuracy: 0.8658\n",
            "Epoch 9/30\n",
            "9/9 [==============================] - ETA: 0s - loss: 0.3657 - accuracy: 0.8685\n",
            "Epoch 9: val_accuracy improved from 0.86575 to 0.87156, saving model to /content/seq2seq_kor/weights.h5\n",
            "9/9 [==============================] - 25s 3s/step - loss: 0.3657 - accuracy: 0.8685 - val_loss: 0.3333 - val_accuracy: 0.8716\n",
            "Epoch 10/30\n",
            "9/9 [==============================] - ETA: 0s - loss: 0.3277 - accuracy: 0.8759\n",
            "Epoch 10: val_accuracy improved from 0.87156 to 0.87980, saving model to /content/seq2seq_kor/weights.h5\n",
            "9/9 [==============================] - 25s 3s/step - loss: 0.3277 - accuracy: 0.8759 - val_loss: 0.2776 - val_accuracy: 0.8798\n",
            "Epoch 11/30\n",
            "9/9 [==============================] - ETA: 0s - loss: 0.2847 - accuracy: 0.8835\n",
            "Epoch 11: val_accuracy improved from 0.87980 to 0.88673, saving model to /content/seq2seq_kor/weights.h5\n",
            "9/9 [==============================] - 25s 3s/step - loss: 0.2847 - accuracy: 0.8835 - val_loss: 0.2700 - val_accuracy: 0.8867\n",
            "Epoch 12/30\n",
            "9/9 [==============================] - ETA: 0s - loss: 0.2316 - accuracy: 0.8900\n",
            "Epoch 12: val_accuracy improved from 0.88673 to 0.89283, saving model to /content/seq2seq_kor/weights.h5\n",
            "9/9 [==============================] - 25s 3s/step - loss: 0.2316 - accuracy: 0.8900 - val_loss: 0.2089 - val_accuracy: 0.8928\n",
            "Epoch 13/30\n",
            "9/9 [==============================] - ETA: 0s - loss: 0.2073 - accuracy: 0.8954\n",
            "Epoch 13: val_accuracy improved from 0.89283 to 0.89785, saving model to /content/seq2seq_kor/weights.h5\n",
            "9/9 [==============================] - 25s 3s/step - loss: 0.2073 - accuracy: 0.8954 - val_loss: 0.2218 - val_accuracy: 0.8978\n",
            "Epoch 14/30\n",
            "9/9 [==============================] - ETA: 0s - loss: 0.1692 - accuracy: 0.9002\n",
            "Epoch 14: val_accuracy improved from 0.89785 to 0.90229, saving model to /content/seq2seq_kor/weights.h5\n",
            "9/9 [==============================] - 25s 3s/step - loss: 0.1692 - accuracy: 0.9002 - val_loss: 0.1188 - val_accuracy: 0.9023\n",
            "Epoch 15/30\n",
            "9/9 [==============================] - ETA: 0s - loss: 0.1348 - accuracy: 0.9044\n",
            "Epoch 15: val_accuracy improved from 0.90229 to 0.90640, saving model to /content/seq2seq_kor/weights.h5\n",
            "9/9 [==============================] - 25s 3s/step - loss: 0.1348 - accuracy: 0.9044 - val_loss: 0.1478 - val_accuracy: 0.9064\n",
            "Epoch 16/30\n",
            "9/9 [==============================] - ETA: 0s - loss: 0.1089 - accuracy: 0.9082\n",
            "Epoch 16: val_accuracy improved from 0.90640 to 0.90987, saving model to /content/seq2seq_kor/weights.h5\n",
            "9/9 [==============================] - 25s 3s/step - loss: 0.1089 - accuracy: 0.9082 - val_loss: 0.1460 - val_accuracy: 0.9099\n",
            "Epoch 17/30\n",
            "9/9 [==============================] - ETA: 0s - loss: 0.0872 - accuracy: 0.9117\n",
            "Epoch 17: val_accuracy improved from 0.90987 to 0.91329, saving model to /content/seq2seq_kor/weights.h5\n",
            "9/9 [==============================] - 25s 3s/step - loss: 0.0872 - accuracy: 0.9117 - val_loss: 0.1600 - val_accuracy: 0.9133\n",
            "Epoch 18/30\n",
            "9/9 [==============================] - ETA: 0s - loss: 0.0760 - accuracy: 0.9150\n",
            "Epoch 18: val_accuracy improved from 0.91329 to 0.91644, saving model to /content/seq2seq_kor/weights.h5\n",
            "9/9 [==============================] - 25s 3s/step - loss: 0.0760 - accuracy: 0.9150 - val_loss: 0.1656 - val_accuracy: 0.9164\n",
            "Epoch 19/30\n",
            "9/9 [==============================] - ETA: 0s - loss: 0.0792 - accuracy: 0.9182\n",
            "Epoch 19: val_accuracy improved from 0.91644 to 0.91979, saving model to /content/seq2seq_kor/weights.h5\n",
            "9/9 [==============================] - 25s 3s/step - loss: 0.0792 - accuracy: 0.9182 - val_loss: 0.1822 - val_accuracy: 0.9198\n",
            "Epoch 20/30\n",
            "9/9 [==============================] - ETA: 0s - loss: 0.0580 - accuracy: 0.9216\n",
            "Epoch 20: val_accuracy improved from 0.91979 to 0.92310, saving model to /content/seq2seq_kor/weights.h5\n",
            "9/9 [==============================] - 25s 3s/step - loss: 0.0580 - accuracy: 0.9216 - val_loss: 0.1890 - val_accuracy: 0.9231\n",
            "Epoch 21/30\n",
            "9/9 [==============================] - ETA: 0s - loss: 0.0388 - accuracy: 0.9245\n",
            "Epoch 21: val_accuracy improved from 0.92310 to 0.92590, saving model to /content/seq2seq_kor/weights.h5\n",
            "9/9 [==============================] - 25s 3s/step - loss: 0.0388 - accuracy: 0.9245 - val_loss: 0.2233 - val_accuracy: 0.9259\n",
            "Epoch 22/30\n",
            "9/9 [==============================] - ETA: 0s - loss: 0.0307 - accuracy: 0.9274\n",
            "Epoch 22: val_accuracy improved from 0.92590 to 0.92864, saving model to /content/seq2seq_kor/weights.h5\n",
            "9/9 [==============================] - 25s 3s/step - loss: 0.0307 - accuracy: 0.9274 - val_loss: 0.2366 - val_accuracy: 0.9286\n",
            "Epoch 23/30\n",
            "9/9 [==============================] - ETA: 0s - loss: 0.0141 - accuracy: 0.9301\n",
            "Epoch 23: val_accuracy improved from 0.92864 to 0.93139, saving model to /content/seq2seq_kor/weights.h5\n",
            "9/9 [==============================] - 25s 3s/step - loss: 0.0141 - accuracy: 0.9301 - val_loss: 0.2852 - val_accuracy: 0.9314\n",
            "Epoch 24/30\n",
            "9/9 [==============================] - ETA: 0s - loss: 0.0103 - accuracy: 0.9328\n",
            "Epoch 24: val_accuracy improved from 0.93139 to 0.93392, saving model to /content/seq2seq_kor/weights.h5\n",
            "9/9 [==============================] - 25s 3s/step - loss: 0.0103 - accuracy: 0.9328 - val_loss: 0.3133 - val_accuracy: 0.9339\n",
            "Epoch 25/30\n",
            "9/9 [==============================] - ETA: 0s - loss: 0.0074 - accuracy: 0.9352\n",
            "Epoch 25: val_accuracy improved from 0.93392 to 0.93632, saving model to /content/seq2seq_kor/weights.h5\n",
            "9/9 [==============================] - 25s 3s/step - loss: 0.0074 - accuracy: 0.9352 - val_loss: 0.3636 - val_accuracy: 0.9363\n",
            "Epoch 26/30\n",
            "9/9 [==============================] - ETA: 0s - loss: 0.0363 - accuracy: 0.9375\n",
            "Epoch 26: val_accuracy improved from 0.93632 to 0.93838, saving model to /content/seq2seq_kor/weights.h5\n",
            "9/9 [==============================] - 25s 3s/step - loss: 0.0363 - accuracy: 0.9375 - val_loss: 0.2707 - val_accuracy: 0.9384\n",
            "Epoch 27/30\n",
            "9/9 [==============================] - ETA: 0s - loss: 0.0670 - accuracy: 0.9393\n",
            "Epoch 27: val_accuracy improved from 0.93838 to 0.94007, saving model to /content/seq2seq_kor/weights.h5\n",
            "9/9 [==============================] - 25s 3s/step - loss: 0.0670 - accuracy: 0.9393 - val_loss: 0.3062 - val_accuracy: 0.9401\n",
            "Epoch 28/30\n",
            "9/9 [==============================] - ETA: 0s - loss: 0.0588 - accuracy: 0.9408\n",
            "Epoch 28: val_accuracy improved from 0.94007 to 0.94164, saving model to /content/seq2seq_kor/weights.h5\n",
            "9/9 [==============================] - 25s 3s/step - loss: 0.0588 - accuracy: 0.9408 - val_loss: 0.2745 - val_accuracy: 0.9416\n",
            "Epoch 29/30\n",
            "9/9 [==============================] - ETA: 0s - loss: 0.0114 - accuracy: 0.9427\n",
            "Epoch 29: val_accuracy improved from 0.94164 to 0.94345, saving model to /content/seq2seq_kor/weights.h5\n",
            "9/9 [==============================] - 25s 3s/step - loss: 0.0114 - accuracy: 0.9427 - val_loss: 0.2492 - val_accuracy: 0.9434\n",
            "Epoch 30/30\n",
            "9/9 [==============================] - ETA: 0s - loss: 0.0489 - accuracy: 0.9443\n",
            "Epoch 30: val_accuracy improved from 0.94345 to 0.94493, saving model to /content/seq2seq_kor/weights.h5\n",
            "9/9 [==============================] - 25s 3s/step - loss: 0.0489 - accuracy: 0.9443 - val_loss: 0.2325 - val_accuracy: 0.9449\n"
          ]
        }
      ]
    },
    {
      "cell_type": "code",
      "source": [
        "# 학습, 평가 정확도\n",
        "plot_graphs(history, 'accuracy')"
      ],
      "metadata": {
        "colab": {
          "base_uri": "https://localhost:8080/",
          "height": 279
        },
        "id": "rG1S9_2F29YP",
        "outputId": "8874a5af-7b66-42b6-9105-d4fec64d8514"
      },
      "execution_count": 89,
      "outputs": [
        {
          "output_type": "display_data",
          "data": {
            "text/plain": [
              "<Figure size 432x288 with 1 Axes>"
            ],
            "image/png": "[encoded data removed]"
          },
          "metadata": {
            "needs_background": "light"
          }
        }
      ]
    },
    {
      "cell_type": "code",
      "source": [
        "# 학습, 평가 손실값\n",
        "plot_graphs(history, 'loss')"
      ],
      "metadata": {
        "colab": {
          "base_uri": "https://localhost:8080/",
          "height": 279
        },
        "id": "IKFYX4cLJo9W",
        "outputId": "68714e07-7b10-4448-84d3-4696c08abf4f"
      },
      "execution_count": 90,
      "outputs": [
        {
          "output_type": "display_data",
          "data": {
            "text/plain": [
              "<Figure size 432x288 with 1 Axes>"
            ],
            "image/png": "[encoded data removed]"
          },
          "metadata": {
            "needs_background": "light"
          }
        }
      ]
    },
    {
      "cell_type": "code",
      "source": [
        "# 저장된 모델 불러오기\n",
        "SAVE_FILE_NM = \"weights.h5\"\n",
        "model.load_weights(os.path.join(DATA_OUT_PATH, MODEL_NAME, SAVE_FILE_NM))"
      ],
      "metadata": {
        "id": "IY3tK28ZJqZ1"
      },
      "execution_count": 91,
      "outputs": []
    },
    {
      "cell_type": "code",
      "source": [
        "# 학습 잘 됐는지 확인\n",
        "query = \"남자친구 승진 선물로 뭐가 좋을까?\"\n",
        "test_index_inputs, _ = enc_processing([query], char2idx)    \n",
        "predict_tokens = model.inference(test_index_inputs)\n",
        "print(predict_tokens)\n",
        "\n",
        "print(' '.join([idx2char[str(t)] for t in predict_tokens]))"
      ],
      "metadata": {
        "colab": {
          "base_uri": "https://localhost:8080/"
        },
        "id": "Iw37AK79JuXE",
        "outputId": "79337898-a6e5-4aea-a306-c353cea6d46a"
      },
      "execution_count": 92,
      "outputs": [
        {
          "output_type": "stream",
          "name": "stdout",
          "text": [
            "[64 71 95 67 40 33]\n",
            "평소에 필요했던 게 좋을 것 같아요\n"
          ]
        }
      ]
    },
    {
      "cell_type": "code",
      "source": [],
      "metadata": {
        "id": "iagmr4V8JxBD"
      },
      "execution_count": null,
      "outputs": []
    }
  ]
}